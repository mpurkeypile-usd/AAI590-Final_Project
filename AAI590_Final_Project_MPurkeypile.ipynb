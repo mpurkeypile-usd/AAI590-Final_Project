{
  "nbformat": 4,
  "nbformat_minor": 0,
  "metadata": {
    "colab": {
      "provenance": [],
      "authorship_tag": "ABX9TyM8wsVDkUee4j+rVIrjCDku",
      "include_colab_link": true
    },
    "kernelspec": {
      "name": "python3",
      "display_name": "Python 3"
    },
    "language_info": {
      "name": "python"
    }
  },
  "cells": [
    {
      "cell_type": "markdown",
      "metadata": {
        "id": "view-in-github",
        "colab_type": "text"
      },
      "source": [
        "<a href=\"https://colab.research.google.com/github/mpurkeypile-usd/AAI590-Final_Project/blob/main/AAI590_Final_Project_MPurkeypile.ipynb\" target=\"_parent\"><img src=\"https://colab.research.google.com/assets/colab-badge.svg\" alt=\"Open In Colab\"/></a>"
      ]
    },
    {
      "cell_type": "markdown",
      "source": [
        "Matt Purkeypile  \n",
        "AAI590 Capstone: Final Project  \n",
        "August 2025  \n",
        "\n",
        "# Breast Tumor Classification Using Quantum Neural Networks"
      ],
      "metadata": {
        "id": "ZGLddNFPQEwd"
      }
    },
    {
      "cell_type": "markdown",
      "source": [
        "## Setup and library loading"
      ],
      "metadata": {
        "id": "4xuyEdtVbbk4"
      }
    },
    {
      "cell_type": "code",
      "source": [
        "# based on the prototype quantum neural network I did as a proof of concept\n",
        "# back in April to get the ok for this approach. Notebook for that:\n",
        "# https://colab.research.google.com/drive/1c2f93b4DxPKU9s4CI8PRZdV_AEoq8ekn\n",
        "# necessary installs\n",
        "# cirq works on Python 3.10 and later:\n",
        "# https://github.com/quantumlib/Cirq/blob/main/docs/start/install.md\n",
        "\n",
        "#############################################\n",
        "# Do NOT restart the runtime when prompted! #\n",
        "#############################################\n",
        "\n",
        "# based on: https://www.tensorflow.org/quantum/install\n",
        "# then corrected with AI recommendations\n",
        "!pip3 install --upgrade pip\n",
        "!pip3 install tensorflow==2.15.0\n",
        "!pip3 install -U tensorflow-quantum\n",
        "!pip install cirq==1.1.0 cirq-google==1.1.0\n",
        "!pip3 install sympy\n",
        "!pip install numpy==1.23.5 # Install numpy==1.23.5 to resolve incompatibility"
      ],
      "metadata": {
        "id": "kTwu0BR3bgfr"
      },
      "execution_count": null,
      "outputs": []
    },
    {
      "cell_type": "code",
      "source": [
        "import tensorflow as tf\n",
        "import tensorflow_quantum as tfq    # reference: https://www.tensorflow.org/quantum\n",
        "import cirq                         # reference: https://quantumai.google/cirq/\n",
        "import cirq_google\n",
        "from cirq.contrib.svg import SVGCircuit\n",
        "import sympy\n",
        "import numpy as np\n",
        "import pandas as pd\n",
        "from google.colab import drive\n",
        "import collections\n",
        "import matplotlib.pyplot as plt"
      ],
      "metadata": {
        "id": "SY_N-Bxkb0-j"
      },
      "execution_count": null,
      "outputs": []
    },
    {
      "cell_type": "markdown",
      "source": [
        "## Data Cleaning"
      ],
      "metadata": {
        "id": "n2CC8ZYEQV9O"
      }
    },
    {
      "cell_type": "code",
      "execution_count": null,
      "metadata": {
        "id": "9LL4UrPeJanK"
      },
      "outputs": [],
      "source": [
        "# first load the data\n",
        "# note that the file is also in the github repo and could\n",
        "# be moved into this location or pulled from there.\n",
        "drive.mount('/content/gdrive')\n",
        "DATASET_PATH = '/content/gdrive/My Drive/Colab Notebooks/breast-cancer.csv'\n",
        "\n",
        "raw_data = pd.read_csv(DATASET_PATH)\n",
        "raw_data.head()"
      ]
    },
    {
      "cell_type": "code",
      "source": [
        "# any missing values?\n",
        "raw_data.isna().sum()"
      ],
      "metadata": {
        "id": "TThQTQq7df5f"
      },
      "execution_count": null,
      "outputs": []
    },
    {
      "cell_type": "markdown",
      "source": [
        "## Exploratory Data Analysis"
      ],
      "metadata": {
        "id": "ufCNFQKfQvge"
      }
    },
    {
      "cell_type": "code",
      "source": [],
      "metadata": {
        "id": "-yDRSeLAO2Hz"
      },
      "execution_count": null,
      "outputs": []
    },
    {
      "cell_type": "markdown",
      "source": [
        "## Model Design and Building"
      ],
      "metadata": {
        "id": "Oc3GXV-3RJXA"
      }
    },
    {
      "cell_type": "code",
      "source": [],
      "metadata": {
        "id": "MWJuXLwuO2C4"
      },
      "execution_count": null,
      "outputs": []
    },
    {
      "cell_type": "markdown",
      "source": [
        "## Model Training"
      ],
      "metadata": {
        "id": "j3iYQbHbRQHR"
      }
    },
    {
      "cell_type": "code",
      "source": [],
      "metadata": {
        "id": "R9NRWi12O18I"
      },
      "execution_count": null,
      "outputs": []
    },
    {
      "cell_type": "markdown",
      "source": [
        "## Model Optimization"
      ],
      "metadata": {
        "id": "xv6o5ba9RXH7"
      }
    },
    {
      "cell_type": "code",
      "source": [],
      "metadata": {
        "id": "9-fkX2A3RPBK"
      },
      "execution_count": null,
      "outputs": []
    },
    {
      "cell_type": "markdown",
      "source": [
        "## Model Analysis"
      ],
      "metadata": {
        "id": "mFAia550Rmaa"
      }
    },
    {
      "cell_type": "code",
      "source": [],
      "metadata": {
        "id": "LUxcuIDaO10I"
      },
      "execution_count": null,
      "outputs": []
    }
  ]
}